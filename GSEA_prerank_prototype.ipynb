{
 "cells": [
  {
   "cell_type": "markdown",
   "metadata": {},
   "source": [
    "# Import Dependencies. Make sure to run in Python 3"
   ]
  },
  {
   "cell_type": "code",
   "execution_count": 7,
   "metadata": {
    "collapsed": true
   },
   "outputs": [],
   "source": [
    "import gseapy as gp\n",
    "import pandas as pd\n",
    "import numpy as np"
   ]
  },
  {
   "cell_type": "markdown",
   "metadata": {},
   "source": [
    "# GSEA Prerank Function Block"
   ]
  },
  {
   "cell_type": "code",
   "execution_count": 8,
   "metadata": {
    "collapsed": false
   },
   "outputs": [
    {
     "name": "stdout",
     "output_type": "stream",
     "text": [
      "60259 pre_filt\n",
      "19195 post_fdr\n",
      "19195 post_fc\n",
      "10511 post_fpkm\n",
      "\n"
     ]
    }
   ],
   "source": [
    "def filter_cuff(cuff_file,fdr,fc,fpkm,flip):\n",
    "    \n",
    "    cuff_df = pd.read_table(cuff_file)\n",
    "    print(len(cuff_df),'pre_filt')\n",
    "    cuff_df = cuff_df[cuff_df.q_value < fdr]\n",
    "    print(len(cuff_df),'post_fdr')\n",
    "    cuff_df = cuff_df[cuff_df['log2(fold_change)'].abs() > fc]\n",
    "    print(len(cuff_df),'post_fc')\n",
    "    cuff_df = cuff_df[(cuff_df.value_1 >= fpkm) | (cuff_df.value_2 >= fpkm)]\n",
    "    print(len(cuff_df),'post_fpkm\\n')\n",
    "    \n",
    "    #Flip the log2(fold_change) sign if KD experiment because + log2FC should mean protein promotes expression\n",
    "    if flip == 'yes':\n",
    "        cuff_df['log2(fold_change)'] = cuff_df['log2(fold_change)'] * -1\n",
    "    \n",
    "    #now add ranking metrics\n",
    "    cuff_df['neglogp'] = cuff_df.apply(lambda row: -1*np.log10(row['p_value'])*np.sign(row['log2(fold_change)']),axis=1)\n",
    "    cuff_df['combo'] = cuff_df.apply(lambda row: -1*np.log10(row['p_value'])*row['log2(fold_change)'],axis=1)\n",
    "    \n",
    "    cuff_df.sort_values(by='log2(fold_change)',inplace=True,ascending=False)\n",
    "    \n",
    "    return(cuff_df)\n",
    "\n",
    "fdr = 1\n",
    "fc = 0\n",
    "fpkm = 5\n",
    "\n",
    "flip = 'no'\n",
    "\n",
    "akemt_cuff = filter_cuff('../cuffdiff_runs/gencode_v24_comp/HTEMT_cuffdiff/gene_exp.diff',fdr,fc,fpkm,flip) \n"
   ]
  },
  {
   "cell_type": "code",
   "execution_count": 10,
   "metadata": {
    "collapsed": false
   },
   "outputs": [
    {
     "name": "stdout",
     "output_type": "stream",
     "text": [
      "10511 total_number_of_genes_considered\n",
      "10509 genes_after_dup_drop\n",
      "10502 genes_after_inf_drop\n",
      "10509 genes_after_dup_drop\n",
      "10509 genes_after_inf_drop\n",
      "10509 genes_after_dup_drop\n",
      "10502 genes_after_inf_drop\n"
     ]
    }
   ],
   "source": [
    "#Need a rank file like this - needs to be in the form of dataframe\n",
    "# \t0\t1\n",
    "# 0\tERG\t6.687611\n",
    "# 1\tNRAP\t5.179271\n",
    "# 2\tPSMB5\t4.577776\n",
    "# 3\tPPFIBP2\t4.568725\n",
    "# 4\tCNOT2\t4.540159\n",
    "\n",
    "def prep_rank_df_cuff(filt_df):\n",
    "    print(len(filt_df),'total_number_of_genes_considered')\n",
    "    #Break into the three rank statistics\n",
    "    rank_stats = ['log2(fold_change)','neglogp','combo']\n",
    "    rank_df_list = []\n",
    "    for i in range(len(rank_stats)):\n",
    "        select_cols = ['gene',rank_stats[i]]\n",
    "        select_df = filt_df[select_cols]\n",
    "        select_df = select_df.sort_values(by=rank_stats[i],ascending=False)\n",
    "        #now need to drop duplicates\n",
    "        select_df.drop_duplicates(subset='gene',keep='first',inplace=True)\n",
    "        select_df.columns = 0,1\n",
    "        print(len(select_df),'genes_after_dup_drop')\n",
    "        #now need to drop infinite values\n",
    "        select_df = select_df.replace([np.inf, -np.inf], np.nan).dropna()\n",
    "        print(len(select_df),'genes_after_inf_drop')\n",
    "        rank_df_list.append(select_df)\n",
    "    return(rank_df_list)\n",
    "\n",
    "#Ok now prep them based on rank statistics\n",
    "\n",
    "#Genes\n",
    "\n",
    "akemt_cuff_rnk = prep_rank_df_cuff(akemt_cuff)"
   ]
  },
  {
   "cell_type": "code",
   "execution_count": 12,
   "metadata": {
    "collapsed": false
   },
   "outputs": [
    {
     "data": {
      "text/html": [
       "<div>\n",
       "<style scoped>\n",
       "    .dataframe tbody tr th:only-of-type {\n",
       "        vertical-align: middle;\n",
       "    }\n",
       "\n",
       "    .dataframe tbody tr th {\n",
       "        vertical-align: top;\n",
       "    }\n",
       "\n",
       "    .dataframe thead th {\n",
       "        text-align: right;\n",
       "    }\n",
       "</style>\n",
       "<table border=\"1\" class=\"dataframe\">\n",
       "  <thead>\n",
       "    <tr style=\"text-align: right;\">\n",
       "      <th></th>\n",
       "      <th>0</th>\n",
       "      <th>1</th>\n",
       "    </tr>\n",
       "  </thead>\n",
       "  <tbody>\n",
       "    <tr>\n",
       "      <th>9832</th>\n",
       "      <td>PIEZO2</td>\n",
       "      <td>12.6527</td>\n",
       "    </tr>\n",
       "    <tr>\n",
       "      <th>10003</th>\n",
       "      <td>GDF6</td>\n",
       "      <td>11.7721</td>\n",
       "    </tr>\n",
       "    <tr>\n",
       "      <th>7258</th>\n",
       "      <td>DGKB</td>\n",
       "      <td>11.6049</td>\n",
       "    </tr>\n",
       "    <tr>\n",
       "      <th>13707</th>\n",
       "      <td>GLIS1</td>\n",
       "      <td>11.0176</td>\n",
       "    </tr>\n",
       "    <tr>\n",
       "      <th>13267</th>\n",
       "      <td>SNTB1</td>\n",
       "      <td>10.2593</td>\n",
       "    </tr>\n",
       "  </tbody>\n",
       "</table>\n",
       "</div>"
      ],
      "text/plain": [
       "            0        1\n",
       "9832   PIEZO2  12.6527\n",
       "10003    GDF6  11.7721\n",
       "7258     DGKB  11.6049\n",
       "13707   GLIS1  11.0176\n",
       "13267   SNTB1  10.2593"
      ]
     },
     "execution_count": 12,
     "metadata": {},
     "output_type": "execute_result"
    }
   ],
   "source": [
    "akemt_cuff_rnk[0].head()"
   ]
  },
  {
   "cell_type": "code",
   "execution_count": 13,
   "metadata": {
    "collapsed": true
   },
   "outputs": [],
   "source": [
    "def run_gsea_prerank_cuff(rank_df_list,gene_set,name,set_name):\n",
    "    ranks = ['log2FC','neglogp','combo']\n",
    "    output_list = []\n",
    "    for i in range(len(rank_df_list)):\n",
    "        output = gp.prerank(rnk=rank_df_list[i],gene_sets=gene_set,\n",
    "                            processes=4, permutation_num=100, min_size = 5,\n",
    "                            outdir='../gene_ontology/gsea_prerank/'+name+'/'+set_name+'.'+ranks[i],no_plot=False,format='png')\n",
    "        rank_df_list[i].to_csv('../gene_ontology/gsea_prerank/'+name+'/'+set_name+'.'+ranks[i]+'.rnk',index=False,header=False,sep='\\t')\n",
    "        output_list.append(output)\n",
    "    return(output_list)"
   ]
  },
  {
   "cell_type": "markdown",
   "metadata": {},
   "source": [
    "# GSEA Prerank Running Block"
   ]
  },
  {
   "cell_type": "code",
   "execution_count": 16,
   "metadata": {
    "collapsed": false
   },
   "outputs": [],
   "source": [
    "gene_set = '/media/sam/Data2/annotations/msigdb_annotations/h.all.v6.2.symbols.gmt'\n",
    "set_name = 'hallmarks'\n",
    "\n",
    "#EMT\n",
    "rank_df_list = akemt_cuff_rnk\n",
    "name = 'htemt_cuff'\n",
    "htemt_hallmarks = run_gsea_prerank_cuff(rank_df_list,gene_set,name,set_name)"
   ]
  },
  {
   "cell_type": "code",
   "execution_count": 17,
   "metadata": {
    "collapsed": false
   },
   "outputs": [
    {
     "name": "stdout",
     "output_type": "stream",
     "text": [
      "HALLMARK_TNFA_SIGNALING_VIA_NFKB\thttp://www.broadinstitute.org/gsea/msigdb/cards/HALLMARK_TNFA_SIGNALING_VIA_NFKB\tJUNB\tCXCL2\tATF3\tNFKBIA\tTNFAIP3\tPTGS2\tCXCL1\tIER3\tCD83\tCCL20\tCXCL3\tMAFF\tNFKB2\tTNFAIP2\tHBEGF\tKLF6\tBIRC3\tPLAUR\tZFP36\tICAM1\tJUN\tEGR3\tIL1B\tBCL2A1\tPPP1R15A\tZC3H12A\tSOD2\tNR4A2\tIL1A\tRELB\tTRAF1\tBTG2\tDUSP1\tMAP3K8\tETS2\tF3\tSDC4\tEGR1\tIL6\tTNF\tKDM6B\tNFKB1\tLIF\tPTX3\tFOSL1\tNR4A1\tJAG1\tCCL4\tGCH1\tCCL2\tRCAN1\tDUSP2\tEHD1\tIER2\tREL\tCFLAR\tRIPK2\tNFKBIE\tNR4A3\tPHLDA1\tIER5\tTNFSF9\tGEM\tGADD45A\tCXCL10\tPLK2\tBHLHE40\tEGR2\tSOCS3\tSLC2A6\tPTGER4\tDUSP5\tSERPINB2\tNFIL3\tSERPINE1\tTRIB1\tTIPARP\tRELA\tBIRC2\tCXCL6\tLITAF\tTNFAIP6\tCD44\tINHBA\tPLAU\tMYC\tTNFRSF9\tSGK1\tTNIP1\tNAMPT\tFOSL2\tPNRC1\tID2\tCD69\tIL7R\tEFNA1\tPHLDA2\tPFKFB3\tCCL5\tYRDC\tIFNGR2\tSQSTM1\tBTG3\tGADD45B\tKYNU\tG0S2\tBTG1\tMCL1\tVEGFA\tMAP2K3\tCDKN1A\tCYR61\tTANK\tIFIT2\tIL18\tTUBB2A\tIRF1\tFOS\tOLR1\tRHOB\tAREG\tNINJ1\tZBTB10\tPPAP2B\tKLF4\tCXCL11\tSAT1\tCSF1\tGPR183\tPMEPA1\tPTPRE\tTLR2\tCXCR7\tKLF10\tMARCKS\tLAMB3\tCEBPB\tTRIP10\tF2RL1\tKLF9\tLDLR\tTGIF1\tRNF19B\tDRAM1\tB4GALT1\tDNAJB4\tCSF2\tPDE4B\tSNN\tPLEK\tSTAT5A\tDENND5A\tCCND1\tDDX58\tSPHK1\tCD80\tTNFAIP8\tCCNL1\tFUT4\tCCRL2\tSPSB1\tTSC22D1\tB4GALT5\tSIK1\tCLCF1\tNFE2L2\tFOSB\tPER1\tNFAT5\tATP2B1\tIL12B\tIL6ST\tSLC16A6\tABCA1\tHES1\tBCL6\tIRS2\tSLC2A3\tCEBPD\tIL23A\tSMAD3\tTAP1\tMSC\tIFIH1\tIL15RA\tTNIP2\tBCL3\tPANX1\tFJX1\tEDN1\tEIF1\tBMP2\tDUSP4\tPDLIM5\tICOSLG\tGFPT2\tKLF2\tTNC\tSERPINB8\tMXD1\r\n",
      "HALLMARK_HYPOXIA\thttp://www.broadinstitute.org/gsea/msigdb/cards/HALLMARK_HYPOXIA\tPGK1\tPDK1\tGBE1\tPFKL\tALDOA\tENO2\tPGM1\tNDRG1\tHK2\tALDOC\tGPI\tMXI1\tSLC2A1\tP4HA1\tADM\tP4HA2\tENO1\tPFKP\tAK4\tFAM162A\tPFKFB3\tVEGFA\tBNIP3L\tTPI1\tERO1L\tKDM3A\tCCNG2\tLDHA\tGYS1\tGAPDH\tBHLHE40\tANGPTL4\tJUN\tSERPINE1\tLOX\tGCK\tPPFIA4\tMAFF\tDDIT4\tSLC2A3\tIGFBP3\tNFIL3\tFOS\tRBPJ\tHK1\tCITED2\tISG20\tGALK1\tWSB1\tPYGM\tSTC1\tZNF292\tBTG1\tPLIN2\tCSRP2\tVLDLR\tJMJD6\tEXT1\tF3\tPDK3\tANKZF1\tUGP2\tALDOB\tSTC2\tERRFI1\tENO3\tPNRC1\tHMOX1\tPGF\tGAPDHS\tCHST2\tTMEM45A\tBCAN\tATF3\tCAV1\tAMPD3\tGPC3\tNDST1\tIRS2\tSAP30\tGAA\tSDC4\tSTBD1\tIER3\tPKLR\tIGFBP1\tPLAUR\tPRKCDBP\tWISP2\tLARGE\tCCRN4L\tS100A4\tRRAGD\tZFP36\tEGFR\tEDN2\tIDS\tCDKN1A\tRORA\tDUSP1\tMIF\tPPP1R3C\tDPYSL4\tKDELR3\tDTNA\tADORA2B\tHS3ST1\tPTRF\tNR3C1\tKLF6\tGPC4\tCYR61\tTNFAIP3\tCA12\tHEXA\tBGN\tPPP1R15A\tPGM2\tPIM1\tPRDX5\tNAGK\tCDKN1B\tBRS3\tTKTL1\tMT1E\tATP7A\tMT2A\tSDC3\tTIPARP\tPKP1\tANXA2\tPGAM2\tDDIT3\tPRKCA\tSLC37A4\tCXCR4\tEFNA3\tCP\tKLF7\tCTGF\tCHST3\tTPD52\tLXN\tB4GALNT2\tPPARGC1A\tBCL2\tGCNT2\tHAS1\tKLHL24\tSCARB1\tSLC25A1\tSDC2\tCASP6\tVHL\tFOXO3\tPDGFB\tB3GALT6\tSLC2A5\tSRPX\tEFNA1\tGLRX\tCXCR7\tPAM\tTGFBI\tDCN\tSIAH2\tPLAC8\tFBP1\tTPST2\tPHKG1\tMYH9\tCDKN1C\tGRHPR\tPCK1\tINHA\tHSPA5\tNDST2\tNEDD4L\tTPBG\tXPNPEP1\tIL6\tSLC6A6\tMAP3K1\tLDHC\tAKAP12\tTES\tKIF5A\tLALBA\tCOL5A1\tGPC1\tHDLBP\tILVBL\tNCAN\tTGM2\tETS1\tHOXB9\tSELENBP1\tFOSL2\tSULT2B1\tTGFB3\r\n",
      "HALLMARK_CHOLESTEROL_HOMEOSTASIS\thttp://www.broadinstitute.org/gsea/msigdb/cards/HALLMARK_CHOLESTEROL_HOMEOSTASIS\tFDPS\tCYP51A1\tIDI1\tFDFT1\tDHCR7\tSQLE\tHMGCS1\tNSDHL\tLSS\tMVD\tLDLR\tTM7SF2\tALDOC\tEBP\tSCD\tPMVK\tMVK\tLPL\tSC5DL\tFADS2\tHMGCR\tHSD17B7\tANXA13\tSREBF2\tPCYT2\tACSS2\tATF3\tADH4\tETHE1\tECH1\tCBS\tGUSB\tFASN\tLGALS3\tATF5\tANXA5\tTP53INP1\tCHKA\tGSTM2\tACAT2\tAVPR1A\tPLSCR1\tCLU\tERRFI1\tTRIB3\tCXCL16\tTNFRSF12A\tACTG1\tJAG1\tLGMN\tFBXO6\tGPX8\tPNRC1\tANTXR2\tMAL2\tCD9\tPPARG\tGLDC\tSTX5\tSTARD4\tCTNNB1\tTMEM97\tFAM129A\tPDK3\tPLAUR\tSEMA3B\tGNAI1\tABCA2\tATXN2\tNFIL3\tALCAM\tFABP5\tS100A11\tCPEB2\r\n",
      "HALLMARK_MITOTIC_SPINDLE\thttp://www.broadinstitute.org/gsea/msigdb/cards/HALLMARK_MITOTIC_SPINDLE\tARHGEF2\tCLASP1\tKIF11\tKIF23\tALS2\tARF6\tMYO9B\tMYH9\tTUBGCP3\tCKAP5\tRACGAP1\tPREX1\tARHGEF3\tNUMA1\tSPTBN1\tKIF2C\tKIF5B\tTTK\tAPC\tCEP250\tPAFAH1B1\tCDC42EP2\tKIF3B\tCCDC88A\tKIF15\tBIRC5\tCNTROB\tNF1\tTSC1\tCDC27\tCNTRL\tTUBGCP5\tKIF4A\tMAPRE1\tFGD6\tBRCA2\tPLK1\tRASA1\tNEK2\tWASF1\tTOP2A\tTRIO\tARHGEF11\tKATNB1\tPRC1\tANLN\tCDK5RAP2\tSMC3\tTUBGCP2\tESPL1\tMAP1S\tARHGAP27\tDOCK4\tSAC3D1\tINCENP\tARHGAP5\tGSN\tNET1\tLRPPRC\tRABGAP1\tFLNB\tARAP3\tFGD4\tABR\tCENPJ\tNCK1\tCENPF\tKIF20B\tWASF2\tMYH10\tCENPE\tCYTH2\tMID1\tKLC1\tMARK4\tARL8A\tCEP57\tUXT\tARHGAP4\tCDC42EP4\tSASS6\tLATS1\tOPHN1\tWASL\tMAP3K11\tSOS1\tABL1\tTIAM1\tKIF1B\tITSN1\tSHROOM1\tNCK2\tDLGAP5\tBCR\tRANBP9\tEPB41L2\tSEPT9\tKATNA1\tTUBD1\tTPX2\tKIF3C\tSHROOM2\tTUBGCP6\tSPTAN1\tPALLD\tARFIP2\tKNTC1\tHOOK3\tSUN2\tMID1IP1\tDLG1\tFLNA\tARHGAP10\tCDC42BPA\tARHGEF12\tMARCKS\tNIN\tPCM1\tRALBP1\tEZR\tSSH2\tCDK1\tRAB3GAP1\tFARP1\tSYNPO\tRHOF\tECT2\tEPB41\tRAPGEF6\tKIF22\tPCGF5\tSTAU1\tARHGDIA\tAURKA\tFBXO5\tNUSAP1\tPXN\tBCAR1\tCD2AP\tAKAP13\tHDAC6\tAZI1\tLLGL1\tATG4B\tPCNT\tALMS1\tCRIPAK\tKPTN\tDST\tKIFAP3\tPPP4R2\tARHGAP29\tRASAL2\tCCNB2\tPIF1\tRASA2\tNEDD9\tSMC1A\tACTN4\tPKD2\tCLIP2\tCDC42\tNDC80\tTLK1\tTAOK2\tTBCD\tCAPZB\tDOCK2\tCTTN\tSMC4\tARFGEF1\tTUBA4A\tLMNB1\tABI1\tROCK1\tCEP192\tBUB1\tGEMIN4\tPLEKHG2\tRICTOR\tBCL2L11\tDYNC1H1\tFSCN1\tARHGEF7\tDYNLL2\tMYO1E\tBIN1\tNOTCH2\tRFC1\tPDLIM5\tRHOT2\tSORBS2\tCDC42EP1\tVCL\tCLIP1\tSTK38L\tYWHAE\tRAPGEF5\tCEP72\tCSNK1D\r\n",
      "HALLMARK_WNT_BETA_CATENIN_SIGNALING\thttp://www.broadinstitute.org/gsea/msigdb/cards/HALLMARK_WNT_BETA_CATENIN_SIGNALING\tMYC\tCTNNB1\tJAG2\tNOTCH1\tDLL1\tAXIN2\tPSEN2\tFZD1\tNOTCH4\tLEF1\tAXIN1\tNKD1\tWNT5B\tCUL1\tJAG1\tMAML1\tKAT2A\tGNAI1\tWNT6\tPTCH1\tNCOR2\tDKK4\tHDAC2\tDKK1\tTCF7\tWNT1\tNUMB\tADAM17\tDVL2\tPPARD\tNCSTN\tHDAC5\tCCND2\tFRAT1\tCSNK1E\tRBPJ\tFZD8\tTP53\tSKP2\tHEY2\tHEY1\tHDAC11\r\n",
      "HALLMARK_TGF_BETA_SIGNALING\thttp://www.broadinstitute.org/gsea/msigdb/cards/HALLMARK_TGF_BETA_SIGNALING\tTGFBR1\tSMAD7\tTGFB1\tSMURF2\tSMURF1\tBMPR2\tSKIL\tSKI\tACVR1\tPMEPA1\tNCOR2\tSERPINE1\tJUNB\tSMAD1\tSMAD6\tPPP1R15A\tTGIF1\tFURIN\tSMAD3\tFKBP1A\tMAP3K7\tBMPR1A\tCTNNB1\tHIPK2\tKLF10\tBMP2\tENG\tAPC\tPPM1A\tXIAP\tCDH1\tID1\tLEFTY2\tCDKN1C\tTRIM33\tRAB31\tTJP1\tSLC20A1\tCDK9\tID3\tNOG\tARID4B\tIFNGR2\tID2\tPPP1CA\tSPTBN1\tWWTR1\tBCAR3\tTHBS1\tFNTA\tHDAC1\tUBE2D3\tLTBP2\tRHOA\r\n",
      "HALLMARK_IL6_JAK_STAT3_SIGNALING\thttp://www.broadinstitute.org/gsea/msigdb/cards/HALLMARK_IL6_JAK_STAT3_SIGNALING\tIL4R\tIL6ST\tSTAT1\tIL1R1\tCSF2RB\tSOCS3\tSTAT3\tOSMR\tIL2RG\tIFNGR1\tTYK2\tIL13RA1\tTLR2\tIFNGR2\tIL10RB\tIL6\tIL1R2\tIL3RA\tIFNAR1\tTNFRSF1A\tMYD88\tACVR1B\tCSF3R\tITGB3\tREG1A\tCXCL1\tA2M\tCSF2RA\tIL15RA\tIRF9\tPDGFC\tHAX1\tBAK1\tEBI3\tINHBE\tCRLF2\tTNFRSF1B\tCD14\tPTPN1\tPTPN2\tIL1B\tCSF1\tIL18R1\tTNF\tPF4\tCXCL13\tLTBR\tFAS\tIL17RA\tCXCL10\tIL9R\tSTAM2\tTNFRSF12A\tSTAT2\tHMOX1\tLEPR\tCBL\tCD9\tCXCL3\tTGFB1\tMAP3K8\tITGA4\tCD38\tJUN\tSOCS1\tACVRL1\tPIM1\tTNFRSF21\tPIK3R5\tGRB2\tIRF1\tDNTT\tCSF2\tIL2RA\tPTPN11\tIL12RB1\tCCR1\tCNTFR\tPLA2G2A\tCXCL9\tCD44\tIL7\tCXCL11\tCCL7\tLTB\tIL17RB\tCD36\r\n",
      "HALLMARK_DNA_REPAIR\thttp://www.broadinstitute.org/gsea/msigdb/cards/HALLMARK_DNA_REPAIR\tPOLR2H\tPOLR2A\tPOLR2G\tPOLR2E\tPOLR2J\tPOLR2F\tPOLR2C\tPOLR2K\tGTF2H3\tPOLR2D\tERCC3\tDDB2\tPOLR1C\tXPC\tPCNA\tPOLR2I\tSUPT4H1\tPOLD3\tPOLR3GL\tPOLR3C\tGTF2B\tPOLR1D\tNCBP2\tRDBP\tGTF2F1\tERCC5\tLIG1\tERCC1\tERCC4\tPOLD4\tCOBRA1\tRFC2\tELL\tTAF10\tRRM2B\tSUPT5H\tRPA3\tSNAPC5\tSSRP1\tRFC3\tRPA2\tTCEB3\tTAF12\tTH1L\tTAF13\tTAF6\tTAF9\tGTF2A2\tVPS37D\tNME1\tRNMT\tERCC2\tPOLE4\tVPS37B\tNT5C3\tSNAPC4\tAAAS\tZNRD1\tRFC4\tITPA\tPOM121\tBRF2\tRFC5\tSAC3D1\tCLP1\tNME4\tPRIM1\tVPS28\tTSG101\tUSP11\tTAF1C\tTARBP2\tPOLH\tCETN2\tPOLD1\tCANT1\tPDE4B\tDGCR8\tRAD51\tSURF1\tPNP\tADA\tNME3\tGTF3C5\tNT5C\tAK1\tGTF2H1\tHCLS1\tAPRT\tERCC8\tIMPDH2\tPOLB\tSDCBP\tSF3A3\tDAD1\tUPF3B\tGUK1\tTP53\tADRM1\tSEC61A1\tPOLA2\tFEN1\tZNF707\tNUDT9\tPDE6G\tTYMS\tBCAP31\tDDB1\tNFX1\tRAD52\tADCY6\tARL6IP1\tDGUOK\tPOLL\tSMAD5\tMPG\tDUT\tPOLA1\tEIF2C4\tRALA\tZWINT\tBCAM\tTK2\tCSTF3\tGTF2H5\tHPRT1\tBOLA2\tGPX4\tBRP44\tCDA\tTHOC4\tMRPL40\tNPR2\tREV3L\tEDF1\tDFNA5\tTMED2\tSTX3\tRAE1\tUMPS\tEIF1B\tAK3\tNUDT21\tRBX1\tSRSF6\tGMPR2\tDCTN4\tCOX17\tCMPK2\tCCNO\r\n",
      "HALLMARK_G2M_CHECKPOINT\thttp://www.broadinstitute.org/gsea/msigdb/cards/HALLMARK_G2M_CHECKPOINT\tAURKA\tCCNA2\tTOP2A\tCCNB2\tCENPA\tBIRC5\tCDC20\tPLK1\tTTK\tPRC1\tNDC80\tKIF11\tNUSAP1\tCKS2\tKIF2C\tMKI67\tAURKB\tTPX2\tSMC4\tBUB1\tCENPF\tRACGAP1\tCENPE\tKIF23\tUBE2C\tMCM6\tMCM3\tPTTG1\tCDK1\tKIF4A\tESPL1\tMAD2L1\tNEK2\tKIF22\tHMMR\tKPNA2\tCDKN3\tCDC25A\tH2AFX\tCDC25B\tPLK4\tCDC6\tCCNF\tMCM5\tLMNB1\tE2F3\tKIF15\tCHEK1\tUBE2S\tWHSC1\tHMGB3\tDBF4\tTACC3\tMCM2\tCDKN2C\tCDKN1B\tFANCC\tNASP\tSTAG1\tGINS2\tFBXO5\tPOLQ\tEZH2\tRAD21\tSTMN1\tSUV39H1\tPRIM2\tE2F1\tCHAF1A\tNOLC1\tGSPT1\tBUB3\tSMC1A\tILF3\tCDC7\tINCENP\tCKS1B\tEXO1\tH2AFZ\tTFDP1\tCCND1\tKPNB1\tHN1\tLBR\tHUS1\tKIF20B\tTOP1\tPDS5B\tSRSF1\tSTIL\tABL1\tDTYMK\tCDC27\tBARD1\tATF5\tCDC45\tODC1\tXPO1\tSFPQ\tTMPO\tPML\tBRCA2\tCTCF\tCASC5\tSETD8\tSLC38A1\tTRA2B\tMYBL2\tTROAP\tPAPD7\tCUL3\tMAPK14\tHIST1H2BK\tMYC\tAMD1\tCBX1\tCHMP1A\tDKC1\tYTHDC1\tCCNT1\tTGFB1\tATRX\tLIG3\tNUP50\tSLC7A5\tRBL1\tNUMA1\tRAD54L\tEFNA5\tPRPF4B\tUCK2\tARID4A\tCUL1\tUPF1\tDR1\tMNAT1\tSMC2\tRBM14\tRPA2\tSQLE\tORC6\tCDK4\tPOLE\tRASAL2\tHOXC10\tRPS6KA5\tCUL4A\tSLC7A1\tFOXN3\tHMGA1\tSS18\tTRAIP\tPRMT5\tCUL5\tDDX39A\tMARCKS\tPBK\tORC5\tSAP30\tKATNA1\tHNRNPD\tPOLA2\tHIRA\tHIF1A\tSYNCRIP\tTLE3\tNCL\tRAD23B\tE2F2\tEGF\tHMGN2\tSRSF10\tSNRPD1\tCASP8AP2\tSMARCC1\tSLC12A2\tNOTCH2\tTNPO2\tSMAD3\tZAK\tHSPA8\tG3BP1\tPTTG3P\tDMD\tMEIS1\tHNRNPU\tSRSF2\tMT2A\tNUP98\tEWSR1\tKIF5B\tMTF2\tE2F4\tBCL3\tPURA\tMEIS2\tPAFAH1B1\tWRN\tH2AFV\tODF2\r\n",
      "HALLMARK_APOPTOSIS\thttp://www.broadinstitute.org/gsea/msigdb/cards/HALLMARK_APOPTOSIS\tCASP3\tCASP9\tDFFA\tCASP7\tCFLAR\tBIRC3\tPMAIP1\tCASP8\tJUN\tBCL2L11\tMCL1\tIL1B\tSPTAN1\tDIABLO\tBAX\tBIK\tIL1A\tBID\tCDKN1A\tGADD45A\tDDIT3\tCDKN1B\tTNF\tGSN\tTNFSF10\tCASP6\tSQSTM1\tFASLG\tEGR3\tCD44\tFAS\tIL18\tIGFBP6\tPRF1\tDAP\tCCND1\tBTG3\tF2R\tSATB1\tBNIP3L\tCASP4\tTNFRSF12A\tCREBBP\tRHOB\tGPX3\tPDGFRB\tTSPO\tCCND2\tXIAP\tTIMP1\tCTNNB1\tIRF1\tHSPB1\tADD1\tTIMP2\tBTG2\tTIMP3\tLEF1\tCASP1\tGPX1\tBCL10\tIGF2R\tCDC25B\tAIFM3\tCD38\tPPP3R1\tHGF\tCLU\tATF3\tLGALS3\tLUM\tLMNA\tGADD45B\tCDK2\tIFNB1\tRETSAT\tSMAD7\tSOD1\tPTK2\tENO2\tHMOX1\tIER3\tBCL2L10\tCD2\tGCH1\tMMP2\tVDAC2\tTAP1\tPLAT\tIFNGR1\tAPP\tBRCA1\tROCK1\tPSEN1\tDCN\tPSEN2\tSOD2\tBMF\tEREG\tKRT18\tTGFB2\tRELA\tWEE1\tRARA\tCD14\tCD69\tPEA15\tDNAJC3\tCASP2\tCTH\tPLCB2\tBMP2\tHMGB2\tLPPR4\tH1F0\tTGFBR3\tEBP\tTXNIP\tANKH\tRHOT2\tCYLD\tGSTM1\tGSR\tBGN\tBCL2L1\tGNA15\tMGMT\tPPT1\tF2\tIL6\tSC5DL\tIFITM3\tRNASEL\tEMP1\tCAV1\tDNM1L\tANXA1\tTOP2A\tISG20\tSLC20A1\tMADD\tPPP2R5B\tBCAP31\tERBB3\tNEDD9\tSAT1\tPDCD4\tBCL2L2\tFEZ1\tERBB2\tDNAJA1\tDAP3\tDPYD\tNEFH\tPAK1\tFDXR\tGPX4\tETF1\tCCNA1\tGUCY2D\tAVPR1A\r\n"
     ]
    }
   ],
   "source": [
    "!head /media/sam/Data2/annotations/msigdb_annotations/db_annotations/h.all.v6.2.symbols.gmt"
   ]
  }
 ],
 "metadata": {
  "kernelspec": {
   "display_name": "Python [conda env:py36]",
   "language": "python",
   "name": "conda-env-py36-py"
  },
  "language_info": {
   "codemirror_mode": {
    "name": "ipython",
    "version": 3
   },
   "file_extension": ".py",
   "mimetype": "text/x-python",
   "name": "python",
   "nbconvert_exporter": "python",
   "pygments_lexer": "ipython3",
   "version": "3.6.6"
  }
 },
 "nbformat": 4,
 "nbformat_minor": 2
}
